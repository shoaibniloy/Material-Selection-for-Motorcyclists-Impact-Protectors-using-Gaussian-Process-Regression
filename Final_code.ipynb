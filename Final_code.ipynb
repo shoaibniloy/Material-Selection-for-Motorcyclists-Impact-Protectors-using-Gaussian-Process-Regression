{
  "nbformat": 4,
  "nbformat_minor": 0,
  "metadata": {
    "colab": {
      "provenance": []
    },
    "kernelspec": {
      "name": "python3",
      "display_name": "Python 3"
    },
    "language_info": {
      "name": "python"
    }
  },
  "cells": [
    {
      "cell_type": "code",
      "execution_count": null,
      "metadata": {
        "id": "a5uIPf7LsxBY"
      },
      "outputs": [],
      "source": [
        "import pandas as pd\n",
        "from sklearn.preprocessing import PolynomialFeatures, StandardScaler\n",
        "from sklearn.gaussian_process import GaussianProcessRegressor\n",
        "from sklearn.gaussian_process.kernels import RBF, ConstantKernel as C, WhiteKernel\n",
        "from sklearn.model_selection import GridSearchCV, learning_curve\n",
        "from sklearn.metrics import mean_squared_error, r2_score, mean_absolute_error\n",
        "import numpy as np\n",
        "import matplotlib.pyplot as plt\n",
        "import shap\n",
        "import seaborn as sns\n",
        "\n",
        "# Load the updated training and test datasets\n",
        "training_data_path = 'training_data.csv'  # Adjust file path as needed\n",
        "test_data_path = 'test_data.csv'  # Adjust file path as needed\n",
        "\n",
        "# Load the datasets\n",
        "training_data = pd.read_csv(training_data_path)\n",
        "test_data = pd.read_csv(test_data_path)\n",
        "\n",
        "# Clean the data: Remove commas from Force columns and convert them to float\n",
        "training_data['Force (N)'] = training_data['Force (N)'].replace({',': ''}, regex=True).astype(float)\n",
        "test_data['Predicted Force (N)'] = test_data['Predicted Force (N)'].replace({',': ''}, regex=True).astype(float)\n",
        "\n",
        "# Manually setting the experimental forces for comparison based on the thickness values\n",
        "actual_forces = [\n",
        "    25010.32, 25172.46, 25320.78, 20690.14, 20846.25, 20980.45,\n",
        "    14100.78, 14224.50, 14350.92, 6625.34, 6749.28, 6820.49,\n",
        "    3989.12, 4090.77, 4150.23, 3150.45, 3237.30, 3302.78\n",
        "]\n",
        "\n",
        "# Assign these actual forces to the test data\n",
        "test_data['Actual Force'] = actual_forces\n",
        "\n",
        "# Prepare the training data\n",
        "X_train = training_data[['Density (log transformation)', 'Elasticity (Pa)', 'Tensile Stress (Pa)', 'Thickness (mm)']]\n",
        "y_train = training_data['Force (N)']\n",
        "\n",
        "# Prepare the test data\n",
        "X_test = test_data[['Density (log transformation)', 'Elasticity (Pa)', 'Tensile Stress (Pa)', 'Thickness (mm)']]\n",
        "\n",
        "# Create polynomial features\n",
        "poly = PolynomialFeatures(degree=2, include_bias=False)\n",
        "X_train_poly = poly.fit_transform(X_train)\n",
        "X_test_poly = poly.transform(X_test)\n",
        "\n",
        "# Standardize the features\n",
        "scaler = StandardScaler()\n",
        "X_train_poly = scaler.fit_transform(X_train_poly)\n",
        "X_test_poly = scaler.transform(X_test_poly)\n",
        "\n",
        "# Define the Gaussian Process Regressor with an RBF kernel\n",
        "kernel = C(1.0, (1e-3, 1e1)) * RBF(length_scale=1.0, length_scale_bounds=(1e-2, 1e1)) + WhiteKernel(noise_level=1e-5, noise_level_bounds=(1e-10, 1e1))\n",
        "\n",
        "gpr = GaussianProcessRegressor(kernel=kernel, n_restarts_optimizer=10, random_state=42)\n",
        "\n",
        "# Hyperparameter grid search\n",
        "param_grid = {\n",
        "    'alpha': [1e-2, 1e-3, 1e-4, 1e-5],\n",
        "    'kernel__k1__k1__constant_value': [0.1, 1, 10, 100],\n",
        "    'kernel__k1__k2__length_scale': [0.1, 1, 10, 100]\n",
        "}\n",
        "\n",
        "grid_search = GridSearchCV(gpr, param_grid, cv=10, scoring='neg_mean_squared_error')\n",
        "grid_search.fit(X_train_poly, y_train)\n",
        "\n",
        "# Get the best model\n",
        "best_gpr = grid_search.best_estimator_\n",
        "\n",
        "# Predict the Force (N) values for the test data\n",
        "predicted_forces = best_gpr.predict(X_test_poly)\n",
        "\n",
        "# Add the predicted forces to the test data\n",
        "test_data['Predicted Force (N)'] = predicted_forces\n",
        "\n",
        "# Calculate performance metrics\n",
        "mse = mean_squared_error(test_data['Actual Force'], predicted_forces)\n",
        "rmse = np.sqrt(mse)\n",
        "r2 = r2_score(test_data['Actual Force'], predicted_forces)\n",
        "mae = mean_absolute_error(test_data['Actual Force'], predicted_forces)\n",
        "mape = np.mean(np.abs((test_data['Actual Force'] - predicted_forces) / test_data['Actual Force'])) * 100\n",
        "max_error = np.max(np.abs(test_data['Actual Force'] - predicted_forces))\n",
        "\n",
        "# Print performance metrics\n",
        "print(f'MSE: {mse}, RMSE: {rmse}, R2: {r2}, MAE: {mae}, MAPE: {mape:.2f}%, Max Error: {max_error}')\n",
        "\n",
        "# Plot GPR vs Experimental\n",
        "plt.figure(figsize=(10, 6))\n",
        "plt.scatter(test_data['Actual Force'], predicted_forces, color='blue', label='Predicted vs Actual')\n",
        "plt.plot([test_data['Actual Force'].min(), test_data['Actual Force'].max()], [test_data['Actual Force'].min(), test_data['Actual Force'].max()], 'k--', label='Perfect Prediction')\n",
        "plt.xlabel('Actual Force (N)')\n",
        "plt.ylabel('Predicted Force (N)')\n",
        "plt.title('Predicted vs Actual Force')\n",
        "plt.legend()\n",
        "plt.show()\n",
        "\n",
        "# Residual Plot\n",
        "residuals = test_data['Actual Force'] - predicted_forces\n",
        "plt.figure(figsize=(10, 6))\n",
        "plt.scatter(predicted_forces, residuals, color='purple', alpha=0.6)\n",
        "plt.axhline(y=0, color='black', linestyle='--')\n",
        "plt.xlabel('Predicted Force (N)')\n",
        "plt.ylabel('Residuals (N)')\n",
        "plt.title('Residual Plot')\n",
        "plt.show()\n",
        "\n",
        "# Learning Curve\n",
        "train_sizes, train_scores, validation_scores = learning_curve(best_gpr, X_train_poly, y_train, cv=10, scoring='neg_mean_squared_error', n_jobs=-1)\n",
        "\n",
        "train_scores_mean = -train_scores.mean(axis=1)\n",
        "validation_scores_mean = -validation_scores.mean(axis=1)\n",
        "\n",
        "plt.figure(figsize=(10, 6))\n",
        "plt.plot(train_sizes, train_scores_mean, label='Training error', color='blue')\n",
        "plt.plot(train_sizes, validation_scores_mean, label='Validation error', color='green')\n",
        "plt.xlabel('Training Set Size')\n",
        "plt.ylabel('Mean Squared Error (MSE)')\n",
        "plt.title('Learning Curve')\n",
        "plt.legend()\n",
        "plt.show()\n",
        "\n",
        "# Confidence Intervals Plot\n",
        "predicted_mean, predicted_std = best_gpr.predict(X_test_poly, return_std=True)\n",
        "plt.figure(figsize=(10, 6))\n",
        "plt.plot(test_data['Thickness (mm)'], predicted_forces, 'bo', label='Predicted Force')\n",
        "plt.fill_between(test_data['Thickness (mm)'], predicted_mean - 1.96 * predicted_std, predicted_mean + 1.96 * predicted_std, color='r', alpha=0.2, label='95% Confidence Interval')\n",
        "plt.xlabel('Thickness (mm)')\n",
        "plt.ylabel('Force (N)')\n",
        "plt.title('Prediction with Confidence Intervals')\n",
        "plt.legend()\n",
        "plt.show()\n",
        "\n",
        "# SHAP Summary Plot\n",
        "explainer = shap.KernelExplainer(best_gpr.predict, X_train_poly[:100])\n",
        "shap_values = explainer.shap_values(X_test_poly[:100])\n",
        "\n",
        "plt.figure(figsize=(10, 6))\n",
        "shap.summary_plot(shap_values, X_test_poly, feature_names=poly.get_feature_names_out())\n",
        "plt.show()\n",
        "\n",
        "# Feature Correlation Heatmap\n",
        "corr_matrix = training_data[['Density (log transformation)', 'Elasticity (Pa)', 'Tensile Stress (Pa)', 'Thickness (mm)', 'Force (N)']].corr()\n",
        "\n",
        "plt.figure(figsize=(10, 6))\n",
        "sns.heatmap(corr_matrix, annot=True, cmap='coolwarm', fmt='.2f', linewidths=0.5, cbar_kws={'label': 'Correlation coefficient'})\n",
        "\n",
        "# Set the title with the desired font size and bold text\n",
        "plt.title('Latex', fontsize=22, fontweight='bold')\n",
        "\n",
        "# Set the x and y labels with desired font size\n",
        "plt.xlabel('Features', fontsize=14)\n",
        "plt.ylabel('Features', fontsize=14)\n",
        "\n",
        "# Show the plot\n",
        "plt.show()\n"
      ]
    },
    {
      "cell_type": "markdown",
      "source": [
        "Actual vs Predicted\n"
      ],
      "metadata": {
        "id": "9-3FLSqUFhrP"
      }
    },
    {
      "cell_type": "code",
      "source": [
        "import matplotlib.pyplot as plt\n",
        "plt.rcParams['font.family'] = 'Calibri'\n",
        "plt.rcParams['font.size'] = 18\n",
        "plt.figure(figsize=(10, 6))\n",
        "plt.scatter(test_data['Thickness (mm)'], test_data['Actual Force'], color='black', label='Actual Force', marker='o')\n",
        "plt.scatter(test_data['Thickness (mm)'], test_data['Predicted Force (N)'], color='red', label='Predicted Force', marker='o')\n",
        "plt.title('Actual vs Predicted Force', fontsize=22, fontweight='bold')\n",
        "plt.xlabel('Thickness (mm)', fontsize=18)\n",
        "plt.ylabel('Force (N)', fontsize=18)\n",
        "plt.legend(fontsize=18)\n",
        "plt.show()\n"
      ],
      "metadata": {
        "id": "huNk7WJzFj9q"
      },
      "execution_count": null,
      "outputs": []
    },
    {
      "cell_type": "markdown",
      "source": [
        "Feature Correlation Heatmap"
      ],
      "metadata": {
        "id": "69e-x-IoPcdj"
      }
    },
    {
      "cell_type": "code",
      "source": [
        "import seaborn as sns\n",
        "import matplotlib.pyplot as plt\n",
        "corr_matrix = training_data[['Density (log transformation)', 'Elasticity (Pa)', 'Tensile Stress (Pa)', 'Thickness (mm)', 'Force (N)']].corr()\n",
        "plt.figure(figsize=(10, 6))\n",
        "sns.heatmap(corr_matrix, annot=True, cmap='coolwarm', fmt='.2f', linewidths=0.5, cbar_kws={'label': 'Correlation coefficient'})\n",
        "plt.title('Feature Correlation', fontsize=22, fontweight='bold')\n",
        "plt.xlabel('Features', fontsize=14)\n",
        "plt.ylabel('Features', fontsize=14)\n",
        "plt.show()\n"
      ],
      "metadata": {
        "id": "fiXtR4yxPef6"
      },
      "execution_count": null,
      "outputs": []
    },
    {
      "cell_type": "markdown",
      "source": [
        "Residual Plot"
      ],
      "metadata": {
        "id": "D5Yfo-QEW442"
      }
    },
    {
      "cell_type": "code",
      "source": [
        "\n",
        "residuals = test_data['Actual Force'] - predicted_forces\n",
        "plt.figure(figsize=(10, 6))\n",
        "plt.scatter(predicted_forces, residuals, color='purple', alpha=0.6)\n",
        "plt.axhline(y=0, color='black', linestyle='--')\n",
        "plt.xlabel('Predicted Force (N)')\n",
        "plt.ylabel('Residuals (N)')\n",
        "plt.title('Residual Plot')\n",
        "plt.show()\n",
        "\n"
      ],
      "metadata": {
        "id": "cueO-WPgW5TA"
      },
      "execution_count": null,
      "outputs": []
    },
    {
      "cell_type": "markdown",
      "source": [
        "Learning Curve"
      ],
      "metadata": {
        "id": "utYbfbr1W7Zj"
      }
    },
    {
      "cell_type": "code",
      "source": [
        "import matplotlib.pyplot as plt\n",
        "import numpy as np\n",
        "from sklearn.model_selection import learning_curve\n",
        "import matplotlib.patches as mpatches\n",
        "\n",
        "train_sizes, train_scores, validation_scores = learning_curve(\n",
        "    best_gpr, X_train_poly, y_train, cv=10, scoring='neg_mean_squared_error', n_jobs=-1\n",
        ")\n",
        "\n",
        "train_scores_mean = -train_scores.mean(axis=1)\n",
        "train_scores_std = train_scores.std(axis=1)\n",
        "validation_scores_mean = -validation_scores.mean(axis=1)\n",
        "validation_scores_std = validation_scores.std(axis=1)\n",
        "\n",
        "scale = 1e8\n",
        "\n",
        "plt.figure(figsize=(12, 8))\n",
        "\n",
        "plt.plot(train_sizes, train_scores_mean / scale, label='Training error', color='blue', linewidth=2, marker='o')\n",
        "plt.fill_between(\n",
        "    train_sizes,\n",
        "    (train_scores_mean - train_scores_std) / scale,\n",
        "    (train_scores_mean + train_scores_std) / scale,\n",
        "    color='blue',\n",
        "    alpha=0.2\n",
        ")\n",
        "\n",
        "plt.plot(train_sizes, validation_scores_mean / scale, label='Validation error', color='green', linewidth=2, marker='s')\n",
        "plt.fill_between(\n",
        "    train_sizes,\n",
        "    (validation_scores_mean - validation_scores_std) / scale,\n",
        "    (validation_scores_mean + validation_scores_std) / scale,\n",
        "    color='green',\n",
        "    alpha=0.2\n",
        ")\n",
        "plt.xlabel('Training Set Size', fontsize=16, fontweight='bold')\n",
        "plt.ylabel(r'Mean Squared Error $\\times 10^8 (\\mathrm{N}^2$)', fontsize=16, fontweight='bold')\n",
        "plt.title('Learning Curve for Gaussian Process Regression', fontsize=16, fontweight='bold')\n",
        "plt.xticks(fontsize=16)\n",
        "plt.yticks(fontsize=16)\n",
        "train_shade = mpatches.Patch(color='blue', alpha=0.2, label='Training error std. dev.')\n",
        "val_shade = mpatches.Patch(color='green', alpha=0.2, label='Validation error std. dev.')\n",
        "handles, labels = plt.gca().get_legend_handles_labels()\n",
        "handles.extend([train_shade, val_shade])\n",
        "plt.legend(handles=handles, loc='best', fancybox=True, framealpha=0.5, fontsize=16)\n",
        "plt.grid(False)\n",
        "plt.tight_layout()\n",
        "plt.show()"
      ],
      "metadata": {
        "id": "Jeil2MhzW7s0"
      },
      "execution_count": null,
      "outputs": []
    }
  ]
}